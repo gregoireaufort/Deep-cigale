{
 "cells": [
  {
   "cell_type": "code",
   "execution_count": 10,
   "id": "686b5761",
   "metadata": {},
   "outputs": [],
   "source": [
    "from astropy.io import fits\n",
    "from matplotlib import pyplot as plt\n",
    "import numpy as np\n",
    "spec_filename =\"test_moons/ID_233242_ETC_output/ID_233242_BC03_z1.46_v60.00_m23.4_nexp8_LR_H.fits\"\n",
    "hdul = fits.open(spec_filename)\n"
   ]
  },
  {
   "cell_type": "code",
   "execution_count": null,
   "id": "9433cc3f",
   "metadata": {},
   "outputs": [],
   "source": []
  },
  {
   "cell_type": "code",
   "execution_count": 11,
   "id": "3c5d3645",
   "metadata": {},
   "outputs": [
    {
     "data": {
      "text/plain": [
       "SIMPLE  =                    T / conforms to FITS standard                      \n",
       "BITPIX  =                    8 / array data type                                \n",
       "NAXIS   =                    0 / number of array dimensions                     \n",
       "EXTEND  =                    T                                                  \n",
       "INST    = 'MOONS_SIM'          / Simulated MOONS data                           \n",
       "MODE    = 'LR      '                                                            \n",
       "BAND    = 'H       '                                                            \n",
       "OBNAME  = 'Survey1 '           / obsTemplate identification                     \n",
       "ATCORR  =                  1.2 / Differential atmospheric diffration ref. wavele\n",
       "NDIT    =                    8 / Number of exposures                            \n",
       "DIT     =                 3600 / Time of exposures [seconds]                    \n",
       "SEEING  =                  0.8 / Seeing at zenith and 500nm [arcsec]            \n",
       "TEMP    =                 11.5 / Temperature [C]                                \n",
       "HUMIDITY=                 14.5 / Relative Humidity [%]                          \n",
       "PRESSUR =                743.0 / Pressure [mbar]                                \n",
       "WMIN    =              14520.0 / Maximum wavelength [AA]                        \n",
       "WMAX    =              18000.0                                                  \n",
       "RON     =                  3.0 / Read out noise                                 \n",
       "DARK    = 0.008333333333330001                                                  \n",
       "GAIN    =                  0.5 / ADU/e                                          \n",
       "SATLEVEL=                30000 / ADU                                            \n",
       "PIXSIZE =                   15 / [micron]                                       \n",
       "R       =               6600.0 / Spectral resolution                            \n",
       "SAMPLING=    2.899020376175549 / Sampling of spectrum [pixels/resolution element\n",
       "SKY_AP  =                  1.1 / Sky aperture [arcsec]                          \n",
       "TEL_AP  =                  8.1 / Telescope aperture [m]                         \n",
       "TEMPLATE= 'ID_233242_BC03_continuum-lines.fits' / Model Name                    \n",
       "TYPE    = 'point-source'                                                        \n",
       "Z       =     1.46399998664856 / Redshift of source                             \n",
       "MAGAB   =    23.35244914983473 / AB magnitude of source                         \n",
       "WAVEAB  =              16400.0 / Central wavelength for MAGAB [AA]              "
      ]
     },
     "execution_count": 11,
     "metadata": {},
     "output_type": "execute_result"
    }
   ],
   "source": [
    "hdul[0].header"
   ]
  },
  {
   "cell_type": "code",
   "execution_count": 15,
   "id": "f1036434",
   "metadata": {},
   "outputs": [
    {
     "data": {
      "text/plain": [
       "[<matplotlib.lines.Line2D at 0x7fd0976bce20>]"
      ]
     },
     "execution_count": 15,
     "metadata": {},
     "output_type": "execute_result"
    },
    {
     "data": {
      "image/png": "[encoded data removed]",
      "text/plain": [
       "<Figure size 432x288 with 1 Axes>"
      ]
     },
     "metadata": {
      "needs_background": "light"
     },
     "output_type": "display_data"
    }
   ],
   "source": [
    "plt.plot(np.linspace(14520,18000, len(hdul[4].data)),hdul[4].data )"
   ]
  },
  {
   "cell_type": "code",
   "execution_count": 5,
   "id": "490acf19",
   "metadata": {},
   "outputs": [],
   "source": [
    "spec_filenameHR =\"test_moons/ID_233242_ETC_output/ID_233242_BC03_z1.46_v60.00_m23.4_nexp8_HR_H.fits\"\n",
    "hdulHR = fits.open(spec_filenameHR)\n"
   ]
  },
  {
   "cell_type": "code",
   "execution_count": 16,
   "id": "1f5cc386",
   "metadata": {},
   "outputs": [
    {
     "data": {
      "text/plain": [
       "SIMPLE  =                    T / conforms to FITS standard                      \n",
       "BITPIX  =                    8 / array data type                                \n",
       "NAXIS   =                    0 / number of array dimensions                     \n",
       "EXTEND  =                    T                                                  \n",
       "INST    = 'MOONS_SIM'          / Simulated MOONS data                           \n",
       "MODE    = 'HR      '                                                            \n",
       "BAND    = 'H       '                                                            \n",
       "OBNAME  = 'Survey1 '           / obsTemplate identification                     \n",
       "ATCORR  =                  1.2 / Differential atmospheric diffration ref. wavele\n",
       "NDIT    =                    8 / Number of exposures                            \n",
       "DIT     =                 3600 / Time of exposures [seconds]                    \n",
       "SEEING  =                  0.8 / Seeing at zenith and 500nm [arcsec]            \n",
       "TEMP    =                 11.5 / Temperature [C]                                \n",
       "HUMIDITY=                 14.5 / Relative Humidity [%]                          \n",
       "PRESSUR =                743.0 / Pressure [mbar]                                \n",
       "WMIN    =              15210.0 / Maximum wavelength [AA]                        \n",
       "WMAX    =              16410.0                                                  \n",
       "RON     =                  3.0 / Read out noise                                 \n",
       "DARK    = 0.008333333333330001                                                  \n",
       "GAIN    =                  0.5 / ADU/e                                          \n",
       "SATLEVEL=                30000 / ADU                                            \n",
       "PIXSIZE =                   15 / [micron]                                       \n",
       "R       =              19700.0 / Spectral resolution                            \n",
       "SAMPLING=    2.738661167512686 / Sampling of spectrum [pixels/resolution element\n",
       "SKY_AP  =                  1.1 / Sky aperture [arcsec]                          \n",
       "TEL_AP  =                  8.1 / Telescope aperture [m]                         \n",
       "TEMPLATE= 'ID_233242_BC03_continuum-lines.fits' / Model Name                    \n",
       "TYPE    = 'point-source'                                                        \n",
       "Z       =     1.46399998664856 / Redshift of source                             \n",
       "MAGAB   =    23.35244914983473 / AB magnitude of source                         \n",
       "WAVEAB  =              16400.0 / Central wavelength for MAGAB [AA]              "
      ]
     },
     "execution_count": 16,
     "metadata": {},
     "output_type": "execute_result"
    }
   ],
   "source": [
    "hdulHR[0].header"
   ]
  },
  {
   "cell_type": "code",
   "execution_count": null,
   "id": "39fb256d",
   "metadata": {},
   "outputs": [],
   "source": []
  },
  {
   "cell_type": "code",
   "execution_count": 17,
   "id": "8784ce97",
   "metadata": {},
   "outputs": [
    {
     "data": {
      "text/plain": [
       "[<matplotlib.lines.Line2D at 0x7fd09769d190>]"
      ]
     },
     "execution_count": 17,
     "metadata": {},
     "output_type": "execute_result"
    },
    {
     "data": {
      "image/png": "[encoded data removed]",
      "text/plain": [
       "<Figure size 432x288 with 1 Axes>"
      ]
     },
     "metadata": {
      "needs_background": "light"
     },
     "output_type": "display_data"
    }
   ],
   "source": [
    "plt.plot(np.linspace(15210,16410, len(hdulHR[4].data)),hdulHR[4].data )"
   ]
  },
  {
   "cell_type": "code",
   "execution_count": 7,
   "id": "1f49ca73",
   "metadata": {},
   "outputs": [
    {
     "data": {
      "text/plain": [
       "XTENSION= 'IMAGE   '           / Image extension                                \n",
       "BITPIX  =                  -64 / array data type                                \n",
       "NAXIS   =                    1 / number of array dimensions                     \n",
       "NAXIS1  =                 4096                                                  \n",
       "PCOUNT  =                    0 / number of parameters                           \n",
       "GCOUNT  =                    1 / number of groups                               \n",
       "NAME    = 'Template'                                                            \n",
       "CRVAL1  =              15210.0                                                  \n",
       "CRDELT1 =   0.2930402930402935                                                  \n",
       "TUNIT1  = 'AA      '                                                            \n",
       "TUNIT2  = 'erg/AA/cm2/s'                                                        \n",
       "R       =              19700.0                                                  \n",
       "SAMPLING=    2.738661167512686                                                  "
      ]
     },
     "execution_count": 7,
     "metadata": {},
     "output_type": "execute_result"
    }
   ],
   "source": [
    "hdulHR[4].header"
   ]
  }
 ],
 "metadata": {
  "kernelspec": {
   "display_name": "Python 3 (ipykernel)",
   "language": "python",
   "name": "python3"
  },
  "language_info": {
   "codemirror_mode": {
    "name": "ipython",
    "version": 3
   },
   "file_extension": ".py",
   "mimetype": "text/x-python",
   "name": "python",
   "nbconvert_exporter": "python",
   "pygments_lexer": "ipython3",
   "version": "3.9.7"
  }
 },
 "nbformat": 4,
 "nbformat_minor": 5
}
