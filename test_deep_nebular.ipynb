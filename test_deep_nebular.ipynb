{
 "cells": [
  {
   "cell_type": "markdown",
   "metadata": {},
   "source": [
    "The modules and data files necessary are found on https://github.com/gregoireaufort/Deep-cigale\n",
    "The content of sed_modules should be added to pcigale/sed_module, and the content of data to pcigale/data\n",
    "\n"
   ]
  },
  {
   "cell_type": "code",
   "execution_count": 1,
   "metadata": {},
   "outputs": [],
   "source": [
    "import sys\n",
    "import numpy as np\n",
    "import matplotlib.pyplot as plt\n",
    "from pcigale import sed\n",
    "from pcigale import sed_modules as modules\n",
    "from copy import deepcopy\n",
    "from astropy.table import Table\n",
    "import pandas as pd\n",
    "import timeit"
   ]
  },
  {
   "cell_type": "code",
   "execution_count": 2,
   "metadata": {},
   "outputs": [
    {
     "name": "stdout",
     "output_type": "stream",
     "text": [
      "Populating the interactive namespace from numpy and matplotlib\n"
     ]
    }
   ],
   "source": [
    "%pylab inline\n",
    "%config InlineBackend.figure_format='svg'\n",
    "matplotlib.rcParams['figure.figsize'] = [11.,5.]"
   ]
  },
  {
   "cell_type": "code",
   "execution_count": 3,
   "metadata": {},
   "outputs": [],
   "source": [
    "import random"
   ]
  },
  {
   "cell_type": "markdown",
   "metadata": {},
   "source": [
    "We first set the parameters, and put everything regarding the deep modules in a dataframe which is saved in a file.  It's necessary to modify the module by giving it the path of the parameter file explicitly (line 29 of \"deep_nebular.py\")"
   ]
  },
  {
   "cell_type": "code",
   "execution_count": 4,
   "metadata": {},
   "outputs": [],
   "source": [
    "n =1000\n",
    "tau_main = 10**np.random.uniform(2,5,n)\n",
    "age_main = np.random.uniform(501,10000,n)\n",
    "tau_burst = np.random.uniform(100,10000,n) \n",
    "age_burst = 10**np.random.uniform(1,np.log10(500),n)\n",
    "metallicity = random.choices([0.0001, 0.0004, 0.004, 0.008, 0.02,0.05],k=n)\n",
    "f_burst = np.random.uniform(0,0.05,n)\n",
    "geometrical_factor = np.random.uniform(0.03,3,n)\n",
    "Age = np.random.uniform(1,6,n)\n",
    "log_O_H = np.random.uniform(-5.4,-2.8,n)\n",
    "log_N_O = np.random.uniform(-2,0,n)\n",
    "HbFrac = np.random.uniform(0,1,n)\n",
    "logU = np.round(np.random.uniform(-3,-1,n),1)\n",
    "f_esc = np.random.uniform(0.,0.5,n)\n",
    "f_dust = np.random.uniform(0.,0.5,n)\n",
    "lines_width = 300\n",
    "E_BV_lines = random.choices([0.0, 0.01, 0.1, 0.5, 1.0],k=n)\n",
    "E_BV_factor = 0.44\n",
    "uv_bump_wavelength = 217.5\n",
    "uv_bump_width = 35.0\n",
    "uv_bump_amplitude = 0.0\n",
    "powerlaw_slope = 0.0\n",
    "Ext_law_emission_lines = 1\n",
    "Rv = 3.1\n",
    "qpah = random.choices([ 0.47, 1.12, 1.77,2.50, 3.19, 3.90, 4.58, 5.26, 5.95, 6.63, 7.32],k=n)\n",
    "umin = random.choices([0.100, 0.120, 0.150, 0.170, 0.200, 0.250,\n",
    "                       0.300, 0.350, 0.400, 0.500, 0.600, 0.700,\n",
    "                       0.800, 1.000, 1.200, 1.500, 1.700, 2.000,\n",
    "                       2.500, 3.000,3.500, 4.000, 5.000, 6.000,\n",
    "                       7.000, 8.000, 10.00, 12.00, 15.00,17.00,\n",
    "                       20.00, 25.00, 30.00, 35.00, 40.00, 50.00],k=n)\n",
    "alpha = np.round(np.random.uniform(1.0,3,n),1)\n",
    "gamma = np.random.uniform(0.,1.,n)\n",
    "params = pd.DataFrame({\"deep_nebular.logU\" : logU,\n",
    "                     \"deep_nebular.geometrical_factor\" : geometrical_factor,\n",
    "                     \"deep_nebular.Age\" : Age,\n",
    "                     \"deep_nebular.log_O_H\" : log_O_H,\n",
    "                     \"deep_nebular.log_N_O\" : log_N_O,\n",
    "                     \"deep_nebular.HbFrac\" : HbFrac,\n",
    "                     \"deep_nebular.f_esc\" : f_esc,\n",
    "                     \"deep_nebular.f_dust\" : f_dust,\n",
    "                     \"deep_nebular.lines_width\" : lines_width,\n",
    "                     \"deep_nebular.emission\" : True,\n",
    "                     })\n",
    "params.to_csv(\"/home/aufort/Desktop/cigale-master/params_nebular.txt\", index = False, sep = \" \")"
   ]
  },
  {
   "cell_type": "code",
   "execution_count": 5,
   "metadata": {},
   "outputs": [
    {
     "name": "stdout",
     "output_type": "stream",
     "text": [
      "Automatic pdb calling has been turned ON\n"
     ]
    }
   ],
   "source": [
    "%pdb"
   ]
  },
  {
   "cell_type": "markdown",
   "metadata": {},
   "source": [
    "Once this is done, the module is called as any other module, and almost every SED properties are still available.\n",
    "For now the code is slow due to the PyNeb call (the deep_cloudy call is extremely fast)"
   ]
  },
  {
   "cell_type": "code",
   "execution_count": 6,
   "metadata": {
    "scrolled": true
   },
   "outputs": [
    {
     "name": "stderr",
     "output_type": "stream",
     "text": [
      "/home/aufort/anaconda3/envs/cigale_bpt/lib/python3.9/site-packages/sklearn/base.py:313: UserWarning: Trying to unpickle estimator StandardScaler from version 0.22.1 when using version 0.22.2.post1. This might lead to breaking code or invalid results. Use at your own risk.\n",
      "  warnings.warn(\n",
      "/home/aufort/anaconda3/envs/cigale_bpt/lib/python3.9/site-packages/sklearn/base.py:313: UserWarning: Trying to unpickle estimator PCA from version 0.22.1 when using version 0.22.2.post1. This might lead to breaking code or invalid results. Use at your own risk.\n",
      "  warnings.warn(\n",
      "/home/aufort/anaconda3/envs/cigale_bpt/lib/python3.9/site-packages/sklearn/base.py:313: UserWarning: Trying to unpickle estimator MLPRegressor from version 0.22.1 when using version 0.22.2.post1. This might lead to breaking code or invalid results. Use at your own risk.\n",
      "  warnings.warn(\n",
      "/home/aufort/anaconda3/envs/cigale_bpt/lib/python3.9/site-packages/sklearn/base.py:313: UserWarning: Trying to unpickle estimator MLPRegressor from version 0.22.1 when using version 0.22.2.post1. This might lead to breaking code or invalid results. Use at your own risk.\n",
      "  warnings.warn(\n",
      "/home/aufort/anaconda3/envs/cigale_bpt/lib/python3.9/site-packages/sklearn/utils/deprecation.py:144: FutureWarning: The sklearn.neural_network.multilayer_perceptron module is  deprecated in version 0.22 and will be removed in version 0.24. The corresponding classes / functions should instead be imported from sklearn.neural_network. Anything that cannot be imported from sklearn.neural_network is now part of the private API.\n",
      "  warnings.warn(message, FutureWarning)\n",
      "/home/aufort/anaconda3/envs/cigale_bpt/lib/python3.9/site-packages/sklearn/externals/joblib/__init__.py:15: FutureWarning: sklearn.externals.joblib is deprecated in 0.21 and will be removed in 0.23. Please import this functionality directly from joblib, which can be installed with: pip install joblib. If this warning is raised when loading pickled models, you may need to re-serialize those models with scikit-learn 0.21+.\n",
      "  warnings.warn(msg, category=FutureWarning)\n",
      "/home/aufort/anaconda3/envs/cigale_bpt/lib/python3.9/site-packages/sklearn/base.py:313: UserWarning: Trying to unpickle estimator MLPRegressor from version 0.19.2 when using version 0.22.2.post1. This might lead to breaking code or invalid results. Use at your own risk.\n",
      "  warnings.warn(\n"
     ]
    },
    {
     "ename": "KeyError",
     "evalue": "(-1.4, 0.2856, 4.7783, -5.0131, -1.793, 0.1735)",
     "output_type": "error",
     "traceback": [
      "\u001b[0;31m---------------------------------------------------------------------------\u001b[0m",
      "\u001b[0;31mKeyError\u001b[0m                                  Traceback (most recent call last)",
      "\u001b[0;32m/tmp/ipykernel_11669/614961536.py\u001b[0m in \u001b[0;36m<module>\u001b[0;34m\u001b[0m\n\u001b[1;32m     23\u001b[0m                          \u001b[0mlines_width\u001b[0m \u001b[0;34m=\u001b[0m \u001b[0;36m300\u001b[0m\u001b[0;34m,\u001b[0m\u001b[0;34m\u001b[0m\u001b[0;34m\u001b[0m\u001b[0m\n\u001b[1;32m     24\u001b[0m                          emission = \"True\")\n\u001b[0;32m---> 25\u001b[0;31m \u001b[0mmod\u001b[0m\u001b[0;34m.\u001b[0m\u001b[0mprocess\u001b[0m\u001b[0;34m(\u001b[0m\u001b[0mgal\u001b[0m\u001b[0;34m)\u001b[0m\u001b[0;34m\u001b[0m\u001b[0;34m\u001b[0m\u001b[0m\n\u001b[0m\u001b[1;32m     26\u001b[0m mod = modules.get_module('dustatt_modified_starburst',\n\u001b[1;32m     27\u001b[0m                           \u001b[0mE_BV_lines\u001b[0m \u001b[0;34m=\u001b[0m \u001b[0;36m0.1\u001b[0m\u001b[0;34m,\u001b[0m\u001b[0;34m\u001b[0m\u001b[0;34m\u001b[0m\u001b[0m\n",
      "\u001b[0;32m~/Bureau/cigale_bpt/cigale-cigale-BPT/pcigale/sed_modules/deep_nebular.py\u001b[0m in \u001b[0;36mprocess\u001b[0;34m(self, sed)\u001b[0m\n\u001b[1;32m    205\u001b[0m             \u001b[0mindex\u001b[0m \u001b[0;34m=\u001b[0m \u001b[0mtuple\u001b[0m\u001b[0;34m(\u001b[0m\u001b[0mnp\u001b[0m\u001b[0;34m.\u001b[0m\u001b[0maround\u001b[0m\u001b[0;34m(\u001b[0m\u001b[0mparams_NN\u001b[0m\u001b[0;34m,\u001b[0m\u001b[0;36m4\u001b[0m\u001b[0;34m)\u001b[0m\u001b[0;34m)\u001b[0m\u001b[0;34m\u001b[0m\u001b[0;34m\u001b[0m\u001b[0m\n\u001b[1;32m    206\u001b[0m \u001b[0;34m\u001b[0m\u001b[0m\n\u001b[0;32m--> 207\u001b[0;31m             \u001b[0mself\u001b[0m\u001b[0;34m.\u001b[0m\u001b[0mlines\u001b[0m \u001b[0;34m=\u001b[0m \u001b[0mself\u001b[0m\u001b[0;34m.\u001b[0m\u001b[0mdatadb_cloudy\u001b[0m\u001b[0;34m[\u001b[0m\u001b[0mindex\u001b[0m\u001b[0;34m]\u001b[0m\u001b[0;34m.\u001b[0m\u001b[0mcopy\u001b[0m\u001b[0;34m(\u001b[0m\u001b[0;34m)\u001b[0m\u001b[0;34m\u001b[0m\u001b[0;34m\u001b[0m\u001b[0m\n\u001b[0m\u001b[1;32m    208\u001b[0m             \u001b[0;31m#cont= self.datadb_pyneb[index]\u001b[0m\u001b[0;34m\u001b[0m\u001b[0;34m\u001b[0m\u001b[0m\n\u001b[1;32m    209\u001b[0m \u001b[0;34m\u001b[0m\u001b[0m\n",
      "\u001b[0;31mKeyError\u001b[0m: (-1.4, 0.2856, 4.7783, -5.0131, -1.793, 0.1735)"
     ]
    },
    {
     "name": "stdout",
     "output_type": "stream",
     "text": [
      "> \u001b[0;32m/home/aufort/Bureau/cigale_bpt/cigale-cigale-BPT/pcigale/sed_modules/deep_nebular.py\u001b[0m(207)\u001b[0;36mprocess\u001b[0;34m()\u001b[0m\n",
      "\u001b[0;32m    205 \u001b[0;31m            \u001b[0mindex\u001b[0m \u001b[0;34m=\u001b[0m \u001b[0mtuple\u001b[0m\u001b[0;34m(\u001b[0m\u001b[0mnp\u001b[0m\u001b[0;34m.\u001b[0m\u001b[0maround\u001b[0m\u001b[0;34m(\u001b[0m\u001b[0mparams_NN\u001b[0m\u001b[0;34m,\u001b[0m\u001b[0;36m4\u001b[0m\u001b[0;34m)\u001b[0m\u001b[0;34m)\u001b[0m\u001b[0;34m\u001b[0m\u001b[0;34m\u001b[0m\u001b[0m\n",
      "\u001b[0m\u001b[0;32m    206 \u001b[0;31m\u001b[0;34m\u001b[0m\u001b[0m\n",
      "\u001b[0m\u001b[0;32m--> 207 \u001b[0;31m            \u001b[0mself\u001b[0m\u001b[0;34m.\u001b[0m\u001b[0mlines\u001b[0m \u001b[0;34m=\u001b[0m \u001b[0mself\u001b[0m\u001b[0;34m.\u001b[0m\u001b[0mdatadb_cloudy\u001b[0m\u001b[0;34m[\u001b[0m\u001b[0mindex\u001b[0m\u001b[0;34m]\u001b[0m\u001b[0;34m.\u001b[0m\u001b[0mcopy\u001b[0m\u001b[0;34m(\u001b[0m\u001b[0;34m)\u001b[0m\u001b[0;34m\u001b[0m\u001b[0;34m\u001b[0m\u001b[0m\n",
      "\u001b[0m\u001b[0;32m    208 \u001b[0;31m            \u001b[0;31m#cont= self.datadb_pyneb[index]\u001b[0m\u001b[0;34m\u001b[0m\u001b[0;34m\u001b[0m\u001b[0m\n",
      "\u001b[0m\u001b[0;32m    209 \u001b[0;31m\u001b[0;34m\u001b[0m\u001b[0m\n",
      "\u001b[0m\n",
      "ipdb> exit\n"
     ]
    }
   ],
   "source": [
    "gal = sed.SED()\n",
    "mod = modules.get_module('sfhdelayed', \n",
    "                         tau_main=tau_main[0],\n",
    "                         age_main = age_main[0],\n",
    "                         tau_burst=tau_burst[0],\n",
    "                         age_burst =age_burst[0],\n",
    "                         f_burst=f_burst[0],\n",
    "                         sfr_A = 1.0)\n",
    "mod.process(gal)\n",
    "mod = modules.get_module('bc03', \n",
    "                         imf=1,\n",
    "                         metallicity=metallicity[0])\n",
    "mod.process(gal)\n",
    "mod = modules.get_module('deep_nebular',\n",
    "                         logU = logU[0], \n",
    "                         geometrical_factor = geometrical_factor[0],\n",
    "                         Age = Age[0],\n",
    "                         log_O_H = log_O_H[0],\n",
    "                         log_N_O = log_N_O[0],\n",
    "                         HbFrac = HbFrac[0],\n",
    "                         f_esc = f_esc[0],\n",
    "                         f_dust= f_dust[0] , \n",
    "                         lines_width = 300,\n",
    "                         emission = \"True\")\n",
    "mod.process(gal)\n",
    "mod = modules.get_module('dustatt_modified_starburst',\n",
    "                          E_BV_lines = 0.1, \n",
    "                          E_BV_factor = 0.44,\n",
    "                          uv_bump_wavelength = 217.5,\n",
    "                          uv_bump_width = 35.0,\n",
    "                          uv_bump_amplitude = 0.0,\n",
    "                          powerlaw_slope = 0.0,\n",
    "                          Ext_law_emission_lines = 1,\n",
    "                          Rv = 3.1,\n",
    "                          filters = \"B_B90 & V_B90 & FUV\")\n",
    "mod.process(gal)\n",
    "mod= modules.get_module('dl2014',\n",
    "                         qpah = qpah[0],\n",
    "                         umin = umin[0],\n",
    "                         alpha = alpha[0],\n",
    "                         gamma = gamma[0])\n",
    "mod.process(gal)\n",
    "plt.loglog(gal.wavelength_grid, gal.fnu)"
   ]
  },
  {
   "cell_type": "code",
   "execution_count": null,
   "metadata": {},
   "outputs": [],
   "source": []
  },
  {
   "cell_type": "code",
   "execution_count": null,
   "metadata": {},
   "outputs": [],
   "source": [
    "gal2 = sed.SED()\n",
    "mod = modules.get_module('sfhdelayed', \n",
    "                         tau_main=tau_main[1],\n",
    "                         age_main = age_main[1],\n",
    "                         tau_burst=tau_burst[1],\n",
    "                         age_burst =age_burst[1],\n",
    "                         f_burst=f_burst[1],\n",
    "                         sfr_A = 1.0)\n",
    "mod.process(gal2)\n",
    "mod = modules.get_module('bc03', \n",
    "                         imf=1,\n",
    "                         metallicity=metallicity[1])\n",
    "mod.process(gal2)\n",
    "mod = modules.get_module('deep_nebular',\n",
    "                         logU = logU[1], \n",
    "                         geometrical_factor = geometrical_factor[1],\n",
    "                         Age = Age[1],\n",
    "                         log_O_H = log_O_H[1],\n",
    "                         log_N_O = log_N_O[1],\n",
    "                         HbFrac = HbFrac[1],\n",
    "                         f_esc = f_esc[1],\n",
    "                         f_dust= f_dust[1] , \n",
    "                         lines_width = 300,\n",
    "                         emission = \"True\")\n",
    "mod.process(gal2)\n",
    "mod = modules.get_module('dustatt_modified_starburst',\n",
    "                          E_BV_lines = 0.1, \n",
    "                          E_BV_factor = 0.44,\n",
    "                          uv_bump_wavelength = 217.5,\n",
    "                          uv_bump_width = 35.0,\n",
    "                          uv_bump_amplitude = 0.0,\n",
    "                          powerlaw_slope = 0.0,\n",
    "                          Ext_law_emission_lines = 1,\n",
    "                          Rv = 3.1,\n",
    "                          filters = \"B_B90 & V_B90 & FUV\")\n",
    "mod.process(gal2)\n",
    "mod= modules.get_module('dl2014',\n",
    "                         qpah = qpah[1],\n",
    "                         umin = umin[1],\n",
    "                         alpha = alpha[1],\n",
    "                         gamma = gamma[1])\n",
    "mod.process(gal2)\n",
    "plt.loglog(gal2.wavelength_grid, gal2.fnu)\n",
    "plt.legend()"
   ]
  },
  {
   "cell_type": "code",
   "execution_count": null,
   "metadata": {
    "scrolled": true
   },
   "outputs": [],
   "source": [
    "gal2.lines[\"H__1_486133A\"]"
   ]
  },
  {
   "cell_type": "code",
   "execution_count": null,
   "metadata": {},
   "outputs": [],
   "source": [
    "mod = modules.get_module('deep_nebular',\n",
    "                         logU = logU[1], \n",
    "                         geometrical_factor = geometrical_factor[1],\n",
    "                         Age = Age[1],\n",
    "                         log_O_H = log_O_H[1],\n",
    "                         log_N_O = log_N_O[1],\n",
    "                         HbFrac = HbFrac[1],\n",
    "                         f_esc = f_esc[1],\n",
    "                         f_dust= f_dust[1] , \n",
    "                         lines_width = 300,\n",
    "                         emission = \"True\")"
   ]
  },
  {
   "cell_type": "code",
   "execution_count": null,
   "metadata": {},
   "outputs": [],
   "source": [
    "gal2.lines[\"H__1_486133A\"]/(mod.corr * gal2.info['stellar.n_ly_young'])"
   ]
  }
 ],
 "metadata": {
  "kernelspec": {
   "display_name": "Python 3 (ipykernel)",
   "language": "python",
   "name": "python3"
  },
  "language_info": {
   "codemirror_mode": {
    "name": "ipython",
    "version": 3
   },
   "file_extension": ".py",
   "mimetype": "text/x-python",
   "name": "python",
   "nbconvert_exporter": "python",
   "pygments_lexer": "ipython3",
   "version": "3.9.7"
  }
 },
 "nbformat": 4,
 "nbformat_minor": 4
}
